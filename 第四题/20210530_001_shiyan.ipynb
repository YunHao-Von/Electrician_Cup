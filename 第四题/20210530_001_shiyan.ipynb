{
 "cells": [
  {
   "cell_type": "code",
   "execution_count": 3,
   "metadata": {
    "collapsed": true
   },
   "outputs": [],
   "source": [
    "import pandas as pd\n",
    "import tushare as ts"
   ]
  },
  {
   "cell_type": "code",
   "execution_count": 13,
   "outputs": [],
   "source": [
    "#获取当前应该被研究的股票代码\n",
    "code=[]\n",
    "data=pd.read_excel('最早数据.xlsx',converters={'证券代码':str})\n",
    "data1=pd.read_csv('股票列表.csv',converters={'symbol':str})\n",
    "temp1=data['证券代码'].tolist()\n",
    "for i in temp1:\n",
    "    temp=data1[data1['symbol']==i]\n",
    "    code.append(temp.iloc[0,0])"
   ],
   "metadata": {
    "collapsed": false,
    "pycharm": {
     "name": "#%%\n"
    }
   }
  },
  {
   "cell_type": "code",
   "execution_count": 18,
   "outputs": [],
   "source": [
    "import pandas as pd\n",
    "import numpy as np\n",
    "from datetime import datetime\n",
    "import tushare as ts\n",
    "pro=ts.pro_api()\n",
    "def get_indicators(code):\n",
    "    #获取当前时间，计算当前和过去四年时间\n",
    "    t0=datetime.now()\n",
    "    t1=datetime(t0.year-4,t0.month,t0.day)\n",
    "    end=t0.strftime('%Y%m%d')\n",
    "    start=t1.strftime('%Y%m%d')\n",
    "    #财务比率\n",
    "    fields='ann_date,end_date,tr_yoy,op_yoy,\\\n",
    "         grossprofit_margin,expense_of_sales,inv_turn,eps,\\\n",
    "         ocfps,roe_yearly,roa2_yearly,netprofit_yoy'\n",
    "    fina = (pro.fina_indicator(ts_code=code,start_date=start, end_date=end,fields=fields)\n",
    "           .drop_duplicates(subset=['ann_date','end_date'],keep='first'))\n",
    "    fina.set_index('end_date',inplace = True)\n",
    "    fina=fina.sort_index()\n",
    "    #获取市盈率和市净率指标（pe、pb数据）\n",
    "    pbe=pro.daily_basic(ts_code=code, fields='trade_date,pe_ttm,pb')\n",
    "    pbe.set_index('trade_date',inplace=True)\n",
    "    pbe=pbe.sort_index()\n",
    "    #合并数据\n",
    "    df=pd.merge(fina,pbe,left_index=True,right_index=True,how='left')\n",
    "    #pb缺失数据使用前值填充，pe不管，缺失值可能是因为盈利为负数\n",
    "    df['pb'].fillna(method='ffill',inplace=True)\n",
    "    return df\n",
    "def cal_tryoy(y):\n",
    "    '''y是营业收入增长率'''\n",
    "    try:\n",
    "        return 5+ min(round(y-10),5) if y>=10 else 5+ max(round(y-10),-5)\n",
    "    except:\n",
    "        return 0\n",
    "#营业利润增长率打分(0-10)\n",
    "def cal_opyoy(y):\n",
    "    '''y是营业利润增长率'''\n",
    "    try:\n",
    "        return 5+ min(round((y-20)/2),5) if y>=20 else 5+ max(round((y-20)/2),-5)\n",
    "    except:\n",
    "        return 0\n",
    "#毛利率打分\n",
    "def cal_gpm(y):\n",
    "    '''y是最近季度毛利率-前三季度平均毛利率'''\n",
    "    try:\n",
    "        return 5+min(round(y)/0.5,5) if y>0 else max(round(y)/0.5,-5)+5\n",
    "    except:\n",
    "        return 0\n",
    "#期间费用率打分\n",
    "def cal_exp(y):\n",
    "    '''y是最近季度期间费用率-前三季度平均期间费用率'''\n",
    "    try:\n",
    "        return 5+min(round(y)/0.5,5) if y>0 else max(round(y)/0.5,-5)+5\n",
    "    except:\n",
    "        return 0\n",
    "#存货周转率打分\n",
    "def cal_inv(y):\n",
    "    '''y是（最近季度存货周转率-前三季度平均存货周转率）/前三季度平均存货周转率*100'''\n",
    "    try:\n",
    "        return 5+min(round(y/2),5) if y>0 else max(round(y/2),-5)+5\n",
    "    except:\n",
    "        return 0\n",
    "#每股经营性现金流打分\n",
    "def cal_ocfp(y):\n",
    "    '''y是（最近三季度每股经营性现金流之和-最近三季度每股收益之和）/最近三季度每股收益之和*100'''\n",
    "    try:\n",
    "        return 5+min(round(y/4),5) if y>0 else max(round(y/4),-5)+5\n",
    "    except:\n",
    "        return 0\n",
    "#净资产收益率打分\n",
    "def cal_roe(y):\n",
    "    '''y是年化净资产收益率'''\n",
    "    try:\n",
    "        return 5+ min(round(y-15),5) if y>=15 else 5+ max(round(y-15),-5)\n",
    "    except:\n",
    "        return 0\n",
    "#总资产报酬率打分\n",
    "def cal_roa(y):\n",
    "    '''y是最近季度年化总资产报酬率'''\n",
    "    try:\n",
    "        return min(round((y-5)/0.5),10) if y>=5 else max(round(y-5),0)\n",
    "    except:\n",
    "        return 0\n",
    "#市净率打分\n",
    "def cal_pb(y):\n",
    "    '''y是市净率'''\n",
    "    try:\n",
    "        return 5-max(round((y-3)/0.4),-5) if y<=3 else 5-min(round((y-3)/0.4),5)\n",
    "    except:\n",
    "        return 0\n",
    "#动态市盈率相对盈利增长率（PEG）打分\n",
    "def cal_pe(y):\n",
    "    '''y是动态市盈率相对盈利增长率'''\n",
    "    try:\n",
    "        return 5-max(round((y-1)/0.1),-5) if y<=1 else 5-min(round((y-1)/0.1),5)\n",
    "    except:\n",
    "        return 0\n",
    "def indicator_score(code):\n",
    "    data=get_indicators(code)\n",
    "    '''(1)营业收入增长率打分'''\n",
    "    data['营收得分']=data['tr_yoy'].apply(cal_tryoy)\n",
    "    '''(2)营业利润增长率打分'''\n",
    "    data['利润得分']=data['op_yoy'].apply(cal_opyoy)\n",
    "    '''(3)毛利率打分'''\n",
    "    #计算最近季度毛利率-前三季度平均毛利率\n",
    "    data['gpm']=data['grossprofit_margin']-data['grossprofit_margin'].rolling(3).mean()\n",
    "    data['毛利得分']=data['gpm'].apply(cal_gpm)\n",
    "    '''(4)期间费用率打分'''\n",
    "    #最近季度期间费用率-前三季度平均期间费用率\n",
    "    data['exp']=data['expense_of_sales']-data['expense_of_sales'].rolling(3).mean()\n",
    "    data['费用得分']=data['exp'].apply(cal_exp)\n",
    "    '''(5)周转率打分'''\n",
    "    #（最近季度存货周转率-前三季度平均存货周转率）/前三季度平均存货周转率*100\n",
    "    data['inv']=(data['inv_turn']-data['inv_turn'].rolling(3).mean())*100/data['inv_turn'].rolling(3).mean()\n",
    "    data['周转得分']=data['inv'].apply(cal_inv)\n",
    "    '''(6)每股经营现金流打分'''\n",
    "    #（最近三季度每股经营性现金流之和-最近三季度每股收益之和）/最近三季度每股收益之和*100\n",
    "    data['ocf']=(data['ocfps'].rolling(3).sum()-data['eps'].rolling(3).sum())*100/data['eps'].rolling(3).sum()\n",
    "    data['现金得分']=data['ocf'].apply(cal_ocfp)\n",
    "    '''(7)净资产收益率打分'''\n",
    "    data['净资产得分']=data['roe_yearly'].apply(cal_roe)\n",
    "    '''(8)总资产收益率打分'''\n",
    "    data['总资产得分']=data['roa2_yearly'].apply(cal_roa)\n",
    "    '''(9)市净率打分'''\n",
    "    data['市净率得分']=data['pb'].apply(cal_pb)\n",
    "    '''(10)动态市盈率相对盈利增长率打分'''\n",
    "    #动态市盈率相对盈利增长率\n",
    "    data['peg']=data['pe_ttm']/data['netprofit_yoy'].rolling(3).mean()\n",
    "    data['市盈率得分']=data['peg'].apply(cal_pe)\n",
    "    #计算总得分\n",
    "    data['总分']=data[['营收得分','利润得分','费用得分','周转得分','现金得分','净资产得分','总资产得分',\\\n",
    "                 '市净率得分','市盈率得分']].sum(axis=1)\n",
    "    return data[['营收得分','利润得分','费用得分','周转得分','现金得分','净资产得分','总资产得分',\\\n",
    "                 '市净率得分','市盈率得分','总分']]"
   ],
   "metadata": {
    "collapsed": false,
    "pycharm": {
     "name": "#%%\n"
    }
   }
  },
  {
   "cell_type": "code",
   "execution_count": 22,
   "outputs": [],
   "source": [
    "score=[]\n",
    "for i in code:\n",
    " df=indicator_score(i)\n",
    " score.append(df.iloc[-1,-1])\n",
    "result_score=pd.DataFrame({'code':code,'score':score})"
   ],
   "metadata": {
    "collapsed": false,
    "pycharm": {
     "name": "#%%\n"
    }
   }
  },
  {
   "cell_type": "code",
   "execution_count": 24,
   "outputs": [],
   "source": [
    "result_score.to_excel('企业风险评估.xlsx',index=False)"
   ],
   "metadata": {
    "collapsed": false,
    "pycharm": {
     "name": "#%%\n"
    }
   }
  }
 ],
 "metadata": {
  "kernelspec": {
   "name": "pycharm-1dac48b0",
   "language": "python",
   "display_name": "PyCharm (shiyan)"
  },
  "language_info": {
   "codemirror_mode": {
    "name": "ipython",
    "version": 2
   },
   "file_extension": ".py",
   "mimetype": "text/x-python",
   "name": "python",
   "nbconvert_exporter": "python",
   "pygments_lexer": "ipython2",
   "version": "2.7.6"
  }
 },
 "nbformat": 4,
 "nbformat_minor": 0
}