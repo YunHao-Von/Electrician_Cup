{
 "cells": [
  {
   "cell_type": "code",
   "execution_count": 1,
   "metadata": {
    "collapsed": true,
    "pycharm": {
     "name": "#%%\n"
    }
   },
   "outputs": [
    {
     "name": "stdout",
     "output_type": "stream",
     "text": [
      "Sheet0 (1)\n",
      "Sheet0 (2)\n",
      "Sheet0 (3)\n",
      "Sheet0 (4)\n",
      "Sheet0 (5)\n",
      "Sheet0 (6)\n",
      "Sheet0 (7)\n",
      "Sheet0 (8)\n",
      "Sheet0 (9)\n",
      "Sheet0 (10)\n",
      "Sheet0 (11)\n",
      "Sheet0 (12)\n",
      "Sheet0 (13)\n",
      "Sheet0 (14)\n",
      "Sheet0 (15)\n",
      "Sheet0 (16)\n",
      "Sheet0 (17)\n",
      "Sheet0 (18)\n",
      "Sheet0 (19)\n",
      "Sheet0 (20)\n",
      "Sheet0 (21)\n",
      "Sheet0 (22)\n",
      "Sheet0 (23)\n",
      "Sheet0 (24)\n",
      "Sheet0 (25)\n",
      "Sheet0 (26)\n",
      "Sheet0 (27)\n",
      "Sheet0 (28)\n",
      "Sheet0 (29)\n",
      "Sheet0 (30)\n",
      "Sheet0 (31)\n",
      "Sheet0 (32)\n",
      "Sheet0 (33)\n",
      "Sheet0 (34)\n",
      "Sheet0 (35)\n",
      "Sheet0 (36)\n",
      "Sheet0 (37)\n"
     ]
    }
   ],
   "source": [
    "import pandas as pd\n",
    "data=[]\n",
    "code=[]\n",
    "for i in range(1,38):\n",
    "    sheet_name='Sheet0 ('+str(i)+')'\n",
    "    print(sheet_name)\n",
    "    temp_data=pd.read_excel('附件1.xlsx',sheet_name=sheet_name,converters={'证券代码':str})\n",
    "    data.append(temp_data)\n",
    "    code.append(temp_data.iloc[0,0])"
   ]
  },
  {
   "cell_type": "code",
   "execution_count": 18,
   "outputs": [],
   "source": [
    "all_list=pd.read_csv('股票列表.csv',converters={'symbol':str})\n",
    "list_code=[]\n",
    "list_date=[]\n",
    "for i in code:\n",
    "    temp_list=all_list[all_list['symbol']==i]\n",
    "    list_code.append(temp_list.iloc[0,0])\n",
    "    list_date.append(temp_list.iloc[0,5])"
   ],
   "metadata": {
    "collapsed": false,
    "pycharm": {
     "name": "#%%\n"
    }
   }
  },
  {
   "cell_type": "code",
   "execution_count": 28,
   "outputs": [],
   "source": [
    "import tushare as ts\n",
    "pro = ts.pro_api()\n",
    "for i in range(len(list_code)):\n",
    "    df = pro.daily_basic(ts_code=str(list_code[i]), start_date=str(list_date[i]), end_date='20210528',fields='ts_code,trade_date,close,total_share,float_share,total_mv,circ_mv')\n",
    "    df.to_csv('每日股本/'+str(list_code[i][0:6])+'.csv',index=False)"
   ],
   "metadata": {
    "collapsed": false,
    "pycharm": {
     "name": "#%%\n"
    }
   }
  },
  {
   "cell_type": "code",
   "execution_count": 37,
   "outputs": [],
   "source": [
    "import os\n",
    "files=os.listdir('每日股本')\n",
    "all_list=pd.read_csv('每日股本/'+(files[0]))\n",
    "for i in range(1,len(files)):\n",
    "    temp_data=pd.read_csv('每日股本/'+files[i])\n",
    "    all_list=pd.concat([all_list,temp_data])\n",
    "all_list.to_csv('每日股本总数据.csv',index=False)"
   ],
   "metadata": {
    "collapsed": false,
    "pycharm": {
     "name": "#%%\n"
    }
   }
  },
  {
   "cell_type": "code",
   "execution_count": 46,
   "outputs": [
    {
     "data": {
      "text/plain": "25564188.9392"
     },
     "execution_count": 46,
     "metadata": {},
     "output_type": "execute_result"
    }
   ],
   "source": [
    "base=all_list[all_list['trade_date']==20190102]\n",
    "base=sum(base['total_mv'].tolist())\n",
    "base"
   ],
   "metadata": {
    "collapsed": false,
    "pycharm": {
     "name": "#%%\n"
    }
   }
  },
  {
   "cell_type": "code",
   "execution_count": 54,
   "outputs": [
    {
     "data": {
      "text/plain": "103.49983136890395"
     },
     "execution_count": 54,
     "metadata": {},
     "output_type": "execute_result"
    }
   ],
   "source": [
    "date_data=pd.read_csv('每日股本/000012.csv')\n",
    "date_data=date_data[date_data['trade_date']>20190102]['trade_date'].tolist()\n",
    "date_data.sort()\n",
    "def index_count(temp_date,temp_base,data):\n",
    "    temp_date=temp_date\n",
    "    temp_base=temp_base\n",
    "    data=data\n",
    "    index=data[data['trade_date']==temp_date]\n",
    "    index=sum(index['total_mv'].tolist())\n",
    "    index=index/temp_base*100\n",
    "    return index"
   ],
   "metadata": {
    "collapsed": false,
    "pycharm": {
     "name": "#%%\n"
    }
   }
  },
  {
   "cell_type": "code",
   "execution_count": 64,
   "outputs": [],
   "source": [
    "#计算调整节点\n",
    "first_change=date_data[date_data.index(20190123)+14]\n",
    "first_change_index=date_data.index(20190123)+14\n",
    "second_change=date_data[date_data.index(20210129)+14]\n",
    "second_change_index=date_data.index(20210129)+14"
   ],
   "metadata": {
    "collapsed": false,
    "pycharm": {
     "name": "#%%\n"
    }
   }
  },
  {
   "cell_type": "code",
   "execution_count": 82,
   "outputs": [],
   "source": [
    "stock_index=[]\n",
    "first_list=all_list[all_list['ts_code']!='601615.SH']\n",
    "for i in range(0,first_change_index):\n",
    "    date=date_data[i]\n",
    "    temp_index=index_count(date,base,first_list)\n",
    "    stock_index.append([date,temp_index])"
   ],
   "metadata": {
    "collapsed": false,
    "pycharm": {
     "name": "#%%\n"
    }
   }
  },
  {
   "cell_type": "code",
   "execution_count": 93,
   "outputs": [
    {
     "data": {
      "text/plain": "27093481.21372206"
     },
     "execution_count": 93,
     "metadata": {},
     "output_type": "execute_result"
    }
   ],
   "source": [
    "#计算新的基期总值\n",
    "index=all_list[all_list['trade_date']==20190219]\n",
    "index=sum(index['total_mv'].tolist())\n",
    "change=all_list[(all_list['ts_code']=='601615.SH')&(all_list['trade_date']==20190219)]\n",
    "change=change.iloc[0,5]\n",
    "new_base=(index)*base/(index-change)"
   ],
   "metadata": {
    "collapsed": false,
    "pycharm": {
     "name": "#%%\n"
    }
   }
  },
  {
   "cell_type": "code",
   "execution_count": 96,
   "outputs": [],
   "source": [
    "first_list=all_list[all_list['ts_code']!='003035.SZ']\n",
    "for i in range(first_change_index,second_change_index):\n",
    "    date=date_data[i]\n",
    "    temp_index=index_count(date,new_base,first_list)\n",
    "    stock_index.append([date,temp_index])"
   ],
   "metadata": {
    "collapsed": false,
    "pycharm": {
     "name": "#%%\n"
    }
   }
  },
  {
   "cell_type": "code",
   "execution_count": 99,
   "outputs": [
    {
     "data": {
      "text/plain": "28014487.543591984"
     },
     "execution_count": 99,
     "metadata": {},
     "output_type": "execute_result"
    }
   ],
   "source": [
    "index=all_list[all_list['trade_date']==20210225]\n",
    "index=sum(index['total_mv'].tolist())\n",
    "change=all_list[(all_list['ts_code']=='003035.SZ')&(all_list['trade_date']==20210225)]\n",
    "change=change.iloc[0,5]\n",
    "final_base=(index)*new_base/(index-change)"
   ],
   "metadata": {
    "collapsed": false,
    "pycharm": {
     "name": "#%%\n"
    }
   }
  },
  {
   "cell_type": "code",
   "execution_count": 100,
   "outputs": [],
   "source": [
    "first_list=all_list\n",
    "for i in range(second_change_index,len(date_data)):\n",
    "    date=date_data[i]\n",
    "    temp_index=index_count(date,new_base,first_list)\n",
    "    stock_index.append([date,temp_index])"
   ],
   "metadata": {
    "collapsed": false,
    "pycharm": {
     "name": "#%%\n"
    }
   }
  },
  {
   "cell_type": "code",
   "execution_count": 102,
   "outputs": [
    {
     "data": {
      "text/plain": "            0           1\n0    20190103   99.137837\n1    20190104  101.729362\n2    20190107  103.499831\n3    20190108  103.996457\n4    20190109  104.616625\n..        ...         ...\n576  20210521  269.828599\n577  20210524  265.772238\n578  20210525  267.575215\n579  20210526  266.821382\n580  20210527  266.356617\n\n[581 rows x 2 columns]",
      "text/html": "<div>\n<style scoped>\n    .dataframe tbody tr th:only-of-type {\n        vertical-align: middle;\n    }\n\n    .dataframe tbody tr th {\n        vertical-align: top;\n    }\n\n    .dataframe thead th {\n        text-align: right;\n    }\n</style>\n<table border=\"1\" class=\"dataframe\">\n  <thead>\n    <tr style=\"text-align: right;\">\n      <th></th>\n      <th>0</th>\n      <th>1</th>\n    </tr>\n  </thead>\n  <tbody>\n    <tr>\n      <th>0</th>\n      <td>20190103</td>\n      <td>99.137837</td>\n    </tr>\n    <tr>\n      <th>1</th>\n      <td>20190104</td>\n      <td>101.729362</td>\n    </tr>\n    <tr>\n      <th>2</th>\n      <td>20190107</td>\n      <td>103.499831</td>\n    </tr>\n    <tr>\n      <th>3</th>\n      <td>20190108</td>\n      <td>103.996457</td>\n    </tr>\n    <tr>\n      <th>4</th>\n      <td>20190109</td>\n      <td>104.616625</td>\n    </tr>\n    <tr>\n      <th>...</th>\n      <td>...</td>\n      <td>...</td>\n    </tr>\n    <tr>\n      <th>576</th>\n      <td>20210521</td>\n      <td>269.828599</td>\n    </tr>\n    <tr>\n      <th>577</th>\n      <td>20210524</td>\n      <td>265.772238</td>\n    </tr>\n    <tr>\n      <th>578</th>\n      <td>20210525</td>\n      <td>267.575215</td>\n    </tr>\n    <tr>\n      <th>579</th>\n      <td>20210526</td>\n      <td>266.821382</td>\n    </tr>\n    <tr>\n      <th>580</th>\n      <td>20210527</td>\n      <td>266.356617</td>\n    </tr>\n  </tbody>\n</table>\n<p>581 rows × 2 columns</p>\n</div>"
     },
     "execution_count": 102,
     "metadata": {},
     "output_type": "execute_result"
    }
   ],
   "source": [
    "stock_index=pd.DataFrame(stock_index)"
   ],
   "metadata": {
    "collapsed": false,
    "pycharm": {
     "name": "#%%\n"
    }
   }
  },
  {
   "cell_type": "code",
   "execution_count": 104,
   "outputs": [],
   "source": [
    "stock_index.to_csv('stock_index.csv',index=False)\n",
    "stock_index.to_excel('stock_index.xlsx',index=False)"
   ],
   "metadata": {
    "collapsed": false,
    "pycharm": {
     "name": "#%%\n"
    }
   }
  }
 ],
 "metadata": {
  "kernelspec": {
   "name": "pycharm-1dac48b0",
   "language": "python",
   "display_name": "PyCharm (shiyan)"
  },
  "language_info": {
   "codemirror_mode": {
    "name": "ipython",
    "version": 2
   },
   "file_extension": ".py",
   "mimetype": "text/x-python",
   "name": "python",
   "nbconvert_exporter": "python",
   "pygments_lexer": "ipython2",
   "version": "2.7.6"
  }
 },
 "nbformat": 4,
 "nbformat_minor": 0
}