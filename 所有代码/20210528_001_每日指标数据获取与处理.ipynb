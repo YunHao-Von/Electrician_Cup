{
 "cells": [
  {
   "cell_type": "code",
   "execution_count": 1,
   "metadata": {
    "collapsed": true
   },
   "outputs": [],
   "source": [
    "import pandas as pd\n",
    "left_data=pd.read_excel('最早数据.xlsx',converters={'证券代码':str})\n",
    "right_data=pd.read_csv('股票列表.csv',converters={'symbol':str})\n",
    "data=pd.merge(left=left_data,right=right_data,how='inner',left_on='证券代码',right_on='symbol')"
   ]
  },
  {
   "cell_type": "code",
   "execution_count": 2,
   "outputs": [],
   "source": [
    "import tushare as ts\n",
    "pro = ts.pro_api()\n",
    "code=data['ts_code'].tolist()\n",
    "for i in code:\n",
    "    df = pro.daily_basic(ts_code=str(i),start_date='20210301',end_date='20210601')\n",
    "    df.to_csv('每日指标数据/'+str(i[0:6])+'.csv',index=False)"
   ],
   "metadata": {
    "collapsed": false,
    "pycharm": {
     "name": "#%%\n"
    }
   }
  },
  {
   "cell_type": "code",
   "execution_count": 7,
   "outputs": [],
   "source": [
    "from  sklearn import ensemble\n",
    "from sklearn.preprocessing import LabelEncoder\n",
    "import numpy as np\n",
    "import pandas as pd\n",
    "import matplotlib.pyplot as plt\n",
    "from sklearn import tree\n",
    "def set_missing_ages(df):\n",
    "\t#把数值型特征都放到随机森林里面去\n",
    "    fill_list=['close','turnover_rate','turnover_rate_f','volume_ratio',\n",
    "               'pe','pe_ttm','pb','ps','ps_ttm','dv_ratio','dv_ttm',\n",
    "               'total_share','float_share','free_share','total_mv','circ_mv']\n",
    "    age_df=df[['close','turnover_rate','turnover_rate_f','volume_ratio',\n",
    "               'pe','pe_ttm','pb','ps','ps_ttm','dv_ratio','dv_ttm',\n",
    "               'total_share','float_share','free_share','total_mv','circ_mv']]\n",
    "    for feature in fill_list:\n",
    "        if age_df[feature].count()==age_df.shape[0]:\n",
    "            continue\n",
    "        temp = age_df[feature]\n",
    "        age_df = age_df.drop(feature,axis=1)\n",
    "        age_df.insert(0,feature,temp)\n",
    "        known_age = age_df[age_df[feature].notnull()].fillna(value=0)\n",
    "        unknown_age = age_df[age_df[feature].isnull()].fillna(value=0)\n",
    "        y=known_age.iloc[:,0]#y是第一列数据\n",
    "        if y.shape[0]==0:\n",
    "            print(feature)\n",
    "            continue\n",
    "        x=known_age.iloc[:,1:]#x是特征属性值，后面几列\n",
    "        rfr=tree.DecisionTreeRegressor()\n",
    "        #根据已有数据去拟合随机森林模型\n",
    "        rfr.fit(x,y)\n",
    "    #预测缺失值\n",
    "        predictedAges = rfr.predict(unknown_age.iloc[:,1:])\n",
    "    #填补缺失值\n",
    "        df.loc[(df[feature].isnull()),feature] = predictedAges\n",
    "\n",
    "    return df"
   ],
   "metadata": {
    "collapsed": false,
    "pycharm": {
     "name": "#%%\n"
    }
   }
  },
  {
   "cell_type": "code",
   "execution_count": 10,
   "outputs": [
    {
     "name": "stdout",
     "output_type": "stream",
     "text": [
      "pe\n",
      "pe_ttm\n",
      "dv_ratio\n",
      "dv_ttm\n",
      "dv_ratio\n",
      "dv_ttm\n",
      "dv_ratio\n",
      "dv_ttm\n",
      "pe_ttm\n",
      "dv_ratio\n",
      "dv_ttm\n",
      "dv_ratio\n",
      "dv_ttm\n",
      "dv_ratio\n",
      "dv_ttm\n",
      "pe_ttm\n",
      "dv_ratio\n",
      "dv_ratio\n",
      "dv_ttm\n"
     ]
    }
   ],
   "source": [
    "import os\n",
    "files=os.listdir('每日指标数据')\n",
    "for i in range(0,len(files)):\n",
    "    temp=pd.read_csv(\"每日指标数据/\"+str(files[i]))\n",
    "    temp=set_missing_ages(temp)\n",
    "    temp=temp.drop(columns=['pe', 'pe_ttm','dv_ratio','dv_ttm'])\n",
    "    temp.to_csv('填补完成/'+str(files[i]),index=False)"
   ],
   "metadata": {
    "collapsed": false,
    "pycharm": {
     "name": "#%%\n"
    }
   }
  },
  {
   "cell_type": "code",
   "execution_count": 13,
   "outputs": [],
   "source": [
    "import os\n",
    "files=os.listdir('填补完成')\n",
    "data=pd.read_csv('填补完成/'+str(files[0]))\n",
    "for i in range(1,len(files)):\n",
    "    temp_data=pd.read_csv('填补完成/'+str(files[i]))\n",
    "    data=pd.concat([data,temp_data])\n",
    "data=data.drop(columns=['turnover_rate_f','ps_ttm','total_share','float_share',\n",
    "                        'free_share','circ_mv'])"
   ],
   "metadata": {
    "collapsed": false,
    "pycharm": {
     "name": "#%%\n"
    }
   }
  },
  {
   "cell_type": "code",
   "execution_count": 40,
   "outputs": [
    {
     "name": "stderr",
     "output_type": "stream",
     "text": [
      "<ipython-input-40-8bd0d8aa99db>:7: SettingWithCopyWarning: \n",
      "A value is trying to be set on a copy of a slice from a DataFrame.\n",
      "Try using .loc[row_indexer,col_indexer] = value instead\n",
      "\n",
      "See the caveats in the documentation: https://pandas.pydata.org/pandas-docs/stable/user_guide/indexing.html#returning-a-view-versus-a-copy\n",
      "  temp_date['close']=temp_date['close']*temp_date['total_mv']/total_mv\n",
      "<ipython-input-40-8bd0d8aa99db>:8: SettingWithCopyWarning: \n",
      "A value is trying to be set on a copy of a slice from a DataFrame.\n",
      "Try using .loc[row_indexer,col_indexer] = value instead\n",
      "\n",
      "See the caveats in the documentation: https://pandas.pydata.org/pandas-docs/stable/user_guide/indexing.html#returning-a-view-versus-a-copy\n",
      "  temp_date['turnover_rate']=temp_date['turnover_rate']*temp_date['total_mv']/total_mv\n",
      "<ipython-input-40-8bd0d8aa99db>:9: SettingWithCopyWarning: \n",
      "A value is trying to be set on a copy of a slice from a DataFrame.\n",
      "Try using .loc[row_indexer,col_indexer] = value instead\n",
      "\n",
      "See the caveats in the documentation: https://pandas.pydata.org/pandas-docs/stable/user_guide/indexing.html#returning-a-view-versus-a-copy\n",
      "  temp_date['volume_ratio']=temp_date['volume_ratio']*temp_date['total_mv']/total_mv\n",
      "<ipython-input-40-8bd0d8aa99db>:10: SettingWithCopyWarning: \n",
      "A value is trying to be set on a copy of a slice from a DataFrame.\n",
      "Try using .loc[row_indexer,col_indexer] = value instead\n",
      "\n",
      "See the caveats in the documentation: https://pandas.pydata.org/pandas-docs/stable/user_guide/indexing.html#returning-a-view-versus-a-copy\n",
      "  temp_date['pb']=temp_date['pb']*temp_date['total_mv']/total_mv\n",
      "<ipython-input-40-8bd0d8aa99db>:11: SettingWithCopyWarning: \n",
      "A value is trying to be set on a copy of a slice from a DataFrame.\n",
      "Try using .loc[row_indexer,col_indexer] = value instead\n",
      "\n",
      "See the caveats in the documentation: https://pandas.pydata.org/pandas-docs/stable/user_guide/indexing.html#returning-a-view-versus-a-copy\n",
      "  temp_date['ps']=temp_date['ps']*temp_date['total_mv']/total_mv\n"
     ]
    }
   ],
   "source": [
    "date=list(set(data['trade_date'].tolist()))\n",
    "date.sort()\n",
    "result=[]\n",
    "for i in date:\n",
    "    temp_date=data[data['trade_date']==i]\n",
    "    total_mv=sum(temp_date['total_mv'].tolist())\n",
    "    temp_date['close']=temp_date['close']*temp_date['total_mv']/total_mv\n",
    "    temp_date['turnover_rate']=temp_date['turnover_rate']*temp_date['total_mv']/total_mv\n",
    "    temp_date['volume_ratio']=temp_date['volume_ratio']*temp_date['total_mv']/total_mv\n",
    "    temp_date['pb']=temp_date['pb']*temp_date['total_mv']/total_mv\n",
    "    temp_date['ps']=temp_date['ps']*temp_date['total_mv']/total_mv\n",
    "    temp_close=sum(temp_date['close'].tolist())\n",
    "    temp_turnover_rate=sum(temp_date['turnover_rate'].tolist())\n",
    "    temp_volume_ratio=sum(temp_date['volume_ratio'].tolist())\n",
    "    temp_pb=sum(temp_date['pb'].tolist())\n",
    "    temp_ps=sum(temp_date['ps'].tolist())\n",
    "    result.append([i,temp_close,temp_turnover_rate,temp_volume_ratio,\n",
    "                   temp_pb,temp_ps])\n",
    "result=pd.DataFrame(result)\n",
    "result.columns = ['date', 'close', 'turnover_rate', 'volume_ratio',\n",
    "                  'pb','ps']"
   ],
   "metadata": {
    "collapsed": false,
    "pycharm": {
     "name": "#%%\n"
    }
   }
  },
  {
   "cell_type": "code",
   "execution_count": 42,
   "outputs": [],
   "source": [
    "result.to_csv('index_indicator.csv',index=False)"
   ],
   "metadata": {
    "collapsed": false,
    "pycharm": {
     "name": "#%%\n"
    }
   }
  }
 ],
 "metadata": {
  "kernelspec": {
   "name": "pycharm-1dac48b0",
   "language": "python",
   "display_name": "PyCharm (shiyan)"
  },
  "language_info": {
   "codemirror_mode": {
    "name": "ipython",
    "version": 2
   },
   "file_extension": ".py",
   "mimetype": "text/x-python",
   "name": "python",
   "nbconvert_exporter": "python",
   "pygments_lexer": "ipython2",
   "version": "2.7.6"
  }
 },
 "nbformat": 4,
 "nbformat_minor": 0
}