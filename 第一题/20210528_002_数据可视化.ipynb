{
 "cells": [
  {
   "cell_type": "code",
   "execution_count": 2,
   "metadata": {
    "collapsed": true
   },
   "outputs": [],
   "source": [
    "import pandas as pd\n",
    "from pyecharts.globals import ThemeType\n",
    "data=pd.read_excel('指数移动平均线.xlsx')"
   ]
  },
  {
   "cell_type": "code",
   "execution_count": 3,
   "outputs": [],
   "source": [
    "data=data.iloc[22:,:5]"
   ],
   "metadata": {
    "collapsed": false,
    "pycharm": {
     "name": "#%%\n"
    }
   }
  },
  {
   "cell_type": "code",
   "execution_count": 4,
   "outputs": [],
   "source": [
    "data=data[(data['date']>=20190401)&(data['date']<=20210430)]"
   ],
   "metadata": {
    "collapsed": false,
    "pycharm": {
     "name": "#%%\n"
    }
   }
  },
  {
   "cell_type": "code",
   "execution_count": 5,
   "outputs": [],
   "source": [
    "five=data['5日(前向)'].tolist()\n",
    "ten=data['10日'].tolist()\n",
    "twenty=data['20日'].tolist()\n",
    "date=data['date'].tolist()"
   ],
   "metadata": {
    "collapsed": false,
    "pycharm": {
     "name": "#%%\n"
    }
   }
  },
  {
   "cell_type": "code",
   "execution_count": 14,
   "outputs": [],
   "source": [
    "import pyecharts.options as opts\n",
    "from pyecharts.charts import Line\n",
    "from pyecharts.faker import Faker\n",
    "from pyecharts.globals import ThemeType\n",
    "five=[int(x) for x in twenty]\n",
    "c = (\n",
    "    Line(init_opts=opts.InitOpts(theme=ThemeType.DARK))\n",
    "    .add_xaxis([str(i) for i in range(len(five))])\n",
    "    .add_yaxis(\"20日移动均线\", five, is_smooth=True,is_symbol_show=True)\n",
    "    .set_series_opts(\n",
    "        areastyle_opts=opts.AreaStyleOpts(opacity=0.5),\n",
    "        label_opts=opts.LabelOpts(is_show=True),\n",
    "    )\n",
    "    .set_global_opts(\n",
    "        title_opts=opts.TitleOpts(title=\"指数移动均线图\"),\n",
    "        xaxis_opts=opts.AxisOpts(\n",
    "            axistick_opts=opts.AxisTickOpts(is_align_with_label=True),\n",
    "            is_scale=False,\n",
    "            boundary_gap=False,\n",
    "        ),\n",
    "    )\n",
    "    .render(\"5.html\")\n",
    ")"
   ],
   "metadata": {
    "collapsed": false,
    "pycharm": {
     "name": "#%%\n"
    }
   }
  },
  {
   "cell_type": "code",
   "execution_count": 8,
   "outputs": [],
   "source": [
    "import pyecharts.options as opts\n",
    "from pyecharts.charts import Line\n",
    "from pyecharts.commons.utils import JsCode\n",
    "background_color_js = (\n",
    "    \"new echarts.graphic.LinearGradient(0, 0, 0, 1, \"\n",
    "    \"[{offset: 0, color: '#c86589'}, {offset: 1, color: '#06a7ff'}], false)\"\n",
    ")\n",
    "area_color_js = (\n",
    "    \"new echarts.graphic.LinearGradient(0, 0, 0, 1, \"\n",
    "    \"[{offset: 0, color: '#eb64fb'}, {offset: 1, color: '#3fbbff0d'}], false)\"\n",
    ")\n",
    "\n",
    "c = (\n",
    "    Line(init_opts=opts.InitOpts(bg_color=JsCode(background_color_js)))\n",
    "    .add_xaxis(xaxis_data=[str(i) for i in range(len(five))])\n",
    "    .add_yaxis(\n",
    "        series_name=\"销售量\",\n",
    "        y_axis=[int(x) for x in ten],\n",
    "        is_smooth=True,\n",
    "        is_symbol_show=True,\n",
    "        symbol=\"circle\",\n",
    "        symbol_size=6,\n",
    "        linestyle_opts=opts.LineStyleOpts(color=\"#fff\"),\n",
    "        label_opts=opts.LabelOpts(is_show=True, position=\"top\", color=\"white\"),\n",
    "        itemstyle_opts=opts.ItemStyleOpts(\n",
    "            color=\"red\", border_color=\"#fff\", border_width=3\n",
    "        ),\n",
    "        tooltip_opts=opts.TooltipOpts(is_show=False),\n",
    "        areastyle_opts=opts.AreaStyleOpts(color=JsCode(area_color_js), opacity=1),\n",
    "    )\n",
    "    .set_global_opts(\n",
    "        title_opts=opts.TitleOpts(\n",
    "            title=\"10日移动均线\",\n",
    "            pos_bottom=\"5%\",\n",
    "            pos_left=\"center\",\n",
    "            title_textstyle_opts=opts.TextStyleOpts(color=\"#fff\", font_size=16),\n",
    "        ),\n",
    "        xaxis_opts=opts.AxisOpts(\n",
    "            type_=\"category\",\n",
    "            boundary_gap=False,\n",
    "            axislabel_opts=opts.LabelOpts(margin=30, color=\"#ffffff63\"),\n",
    "            axisline_opts=opts.AxisLineOpts(is_show=False),\n",
    "            axistick_opts=opts.AxisTickOpts(\n",
    "                is_show=True,\n",
    "                length=25,\n",
    "                linestyle_opts=opts.LineStyleOpts(color=\"#ffffff1f\"),\n",
    "            ),\n",
    "            splitline_opts=opts.SplitLineOpts(\n",
    "                is_show=True, linestyle_opts=opts.LineStyleOpts(color=\"#ffffff1f\")\n",
    "            ),\n",
    "        ),\n",
    "        yaxis_opts=opts.AxisOpts(\n",
    "            type_=\"value\",\n",
    "            position=\"right\",\n",
    "            axislabel_opts=opts.LabelOpts(margin=20, color=\"#ffffff63\"),\n",
    "            axisline_opts=opts.AxisLineOpts(\n",
    "                linestyle_opts=opts.LineStyleOpts(width=2, color=\"#fff\")\n",
    "            ),\n",
    "            axistick_opts=opts.AxisTickOpts(\n",
    "                is_show=True,\n",
    "                length=15,\n",
    "                linestyle_opts=opts.LineStyleOpts(color=\"#ffffff1f\"),\n",
    "            ),\n",
    "            splitline_opts=opts.SplitLineOpts(\n",
    "                is_show=True, linestyle_opts=opts.LineStyleOpts(color=\"#ffffff1f\")\n",
    "            ),\n",
    "        ),\n",
    "        legend_opts=opts.LegendOpts(is_show=False),\n",
    "    )\n",
    "    .render(\"ten.html\")\n",
    ")"
   ],
   "metadata": {
    "collapsed": false,
    "pycharm": {
     "name": "#%%\n"
    }
   }
  }
 ],
 "metadata": {
  "kernelspec": {
   "name": "pycharm-1dac48b0",
   "language": "python",
   "display_name": "PyCharm (shiyan)"
  },
  "language_info": {
   "codemirror_mode": {
    "name": "ipython",
    "version": 2
   },
   "file_extension": ".py",
   "mimetype": "text/x-python",
   "name": "python",
   "nbconvert_exporter": "python",
   "pygments_lexer": "ipython2",
   "version": "2.7.6"
  }
 },
 "nbformat": 4,
 "nbformat_minor": 0
}